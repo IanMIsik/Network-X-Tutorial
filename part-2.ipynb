{
 "cells": [
  {
   "cell_type": "markdown",
   "id": "ff2d0703-1cf5-442a-9730-5b054a09ec32",
   "metadata": {},
   "source": [
    "# Part 2: Email Behaviour Data Analysis"
   ]
  },
  {
   "cell_type": "markdown",
   "id": "94d3b813-a930-4d20-949d-557a59bd8724",
   "metadata": {
    "tags": []
   },
   "source": [
    "---"
   ]
  },
  {
   "cell_type": "markdown",
   "id": "d9389eca-4427-450f-b86d-2954730560af",
   "metadata": {
    "tags": []
   },
   "source": [
    "### Install Python packages (pip only)"
   ]
  },
  {
   "cell_type": "code",
   "execution_count": 1,
   "id": "561e7d2b-d506-4b97-9e0a-4643d5ef91d0",
   "metadata": {
    "collapsed": true
   },
   "outputs": [
    {
     "name": "stdout",
     "output_type": "stream",
     "text": [
      "Defaulting to user installation because normal site-packages is not writeable\n",
      "Requirement already satisfied: networkx in c:\\programdata\\anaconda3\\lib\\site-packages (3.1)\n",
      "Requirement already satisfied: numpy in c:\\programdata\\anaconda3\\lib\\site-packages (1.24.3)\n",
      "Requirement already satisfied: matplotlib in c:\\programdata\\anaconda3\\lib\\site-packages (3.7.1)\n",
      "Requirement already satisfied: contourpy>=1.0.1 in c:\\programdata\\anaconda3\\lib\\site-packages (from matplotlib) (1.0.5)\n",
      "Requirement already satisfied: cycler>=0.10 in c:\\programdata\\anaconda3\\lib\\site-packages (from matplotlib) (0.11.0)\n",
      "Requirement already satisfied: fonttools>=4.22.0 in c:\\programdata\\anaconda3\\lib\\site-packages (from matplotlib) (4.25.0)\n",
      "Requirement already satisfied: kiwisolver>=1.0.1 in c:\\programdata\\anaconda3\\lib\\site-packages (from matplotlib) (1.4.4)\n",
      "Requirement already satisfied: packaging>=20.0 in c:\\programdata\\anaconda3\\lib\\site-packages (from matplotlib) (23.0)\n",
      "Requirement already satisfied: pillow>=6.2.0 in c:\\programdata\\anaconda3\\lib\\site-packages (from matplotlib) (9.4.0)\n",
      "Requirement already satisfied: pyparsing>=2.3.1 in c:\\programdata\\anaconda3\\lib\\site-packages (from matplotlib) (3.0.9)\n",
      "Requirement already satisfied: python-dateutil>=2.7 in c:\\users\\mickey mouse\\appdata\\roaming\\python\\python311\\site-packages (from matplotlib) (2.8.2)\n",
      "Requirement already satisfied: six>=1.5 in c:\\programdata\\anaconda3\\lib\\site-packages (from python-dateutil>=2.7->matplotlib) (1.16.0)\n",
      "Note: you may need to restart the kernel to use updated packages.\n"
     ]
    }
   ],
   "source": [
    "#e.g., %pip install some-package\n",
    "%pip install networkx numpy matplotlib"
   ]
  },
  {
   "cell_type": "markdown",
   "id": "661a426f-00b3-4eab-b8ff-3897a5bf2e87",
   "metadata": {},
   "source": [
    "### Import Python packages"
   ]
  },
  {
   "cell_type": "code",
   "execution_count": 37,
   "id": "9fde3e57-85f4-46f2-9999-96434563cc69",
   "metadata": {},
   "outputs": [],
   "source": [
    "#e.g., import some-package\n",
    "import numpy as np\n",
    "import networkx as nx\n",
    "import json"
   ]
  },
  {
   "cell_type": "markdown",
   "id": "31f7e832-7044-47ce-84b0-610a465e6b1d",
   "metadata": {},
   "source": [
    "---"
   ]
  },
  {
   "cell_type": "markdown",
   "id": "6be69931-f66d-490c-8f4f-3d8016c72c13",
   "metadata": {
    "tags": []
   },
   "source": [
    "### Task 1 of 1 \n",
    "\n",
    "Examine the file \"emails.edgelist\" which represents email behaviour at an organisation. Each line contains two numbers, 𝑢 and 𝑣, separated by a blank space. Consider each number as an identifier for an individual in an organisation, with the space on each line representing that the individual, 𝑢, sent at least one email to the another individual, 𝑣, at some point. Model the data using an appropriate, directed network representation and answer the following questions:"
   ]
  },
  {
   "cell_type": "markdown",
   "id": "e2fa5455-293e-4b4b-b084-71d0cb31d40b",
   "metadata": {},
   "source": [
    "##### Q1. Do the majority of individuals have a higher or lower ratio of mutual connections than average in the network?"
   ]
  },
  {
   "cell_type": "code",
   "execution_count": 38,
   "id": "84bbaf04-0d29-457c-9c5c-83da2ce1a57a",
   "metadata": {},
   "outputs": [
    {
     "name": "stdout",
     "output_type": "stream",
     "text": [
      "Majority of the individuals have a higher ratio of mutual connections than the average in the network.\n",
      "Total Number: 448\n"
     ]
    }
   ],
   "source": [
    "\n",
    "# loading emails edgelist and creating a directed graph. \n",
    "email_network = nx.read_edgelist(\"emails.edgelist\", create_using=nx.DiGraph())\n",
    "\n",
    "mutual_connection_ratio = {}\n",
    "\n",
    "# Calculating mutual connections in the network\n",
    "for node in email_network.nodes():\n",
    "    # Getting outgoing edges\n",
    "    out_degree = email_network.out_degree(node)\n",
    "    mutual_connections = 0\n",
    "    # looping through the neighbors of the node \n",
    "    for neighbor in email_network.neighbors(node): \n",
    "        # Checking if there's a connection\n",
    "        if email_network.has_edge(neighbor, node):\n",
    "            mutual_connections +=1 \n",
    "    if out_degree > 0: \n",
    "        mutual_connection_ratio[node] = mutual_connections / out_degree\n",
    "    else: \n",
    "        mutual_connection_ratio[node] = 0 # Handling nodes with no outgoing edges\n",
    "        \n",
    "average_mutual_connection_ratio = np.mean(list(mutual_connection_ratio.values()))\n",
    "\n",
    "# getting count of mutual connection ratio for nodes in the network greater/less than average\n",
    "greater_than_average = sum(1 for ratio in mutual_connection_ratio.values() if ratio > average_mutual_connection_ratio)\n",
    "\n",
    "less_than_average = sum(1 for ratio in mutual_connection_ratio.values() if ratio < average_mutual_connection_ratio)\n",
    "\n",
    "\n",
    "if greater_than_average > less_than_average: \n",
    "    print(f\"Majority of the individuals have a higher ratio of mutual connections than the average in the network.\\nTotal Number: {greater_than_average}\")\n",
    "elif greater_than_average < less_than_average: \n",
    "    print(f\"Majority of the individuals have a lower ratio of mutual connections than the average in the network.\\nTotal Number: {less_than_average}\")\n",
    "else: \n",
    "    print(\"There's an equal amount of individuals with lower and higher mutual connections than the average in the network\")\n",
    "  \n"
   ]
  },
  {
   "cell_type": "raw",
   "id": "555d8e2e-b511-44d9-9e66-abbcfd72e813",
   "metadata": {},
   "source": [
    "ANSWER: Majority of the individuals have a higher ratio of mutual connections than the average in the network. Therefore, majority of the individuals engage conversations that receive replies from their receipients and vice versa. "
   ]
  },
  {
   "cell_type": "markdown",
   "id": "a88f1282-c982-44a1-943b-a1e58d6cfd5f",
   "metadata": {
    "tags": []
   },
   "source": [
    "##### Q2. Using the largest, strongly connected component (where at least one path exists between each individual and all others). Could the connectivity of the component be suggested to be reflective of a small world phenomenon in comparison to the typical connectivity of 10 comparative random networks?"
   ]
  },
  {
   "cell_type": "code",
   "execution_count": 39,
   "id": "775143b3-138d-4851-b14f-8119c2b18a9d",
   "metadata": {
    "tags": []
   },
   "outputs": [
    {
     "name": "stdout",
     "output_type": "stream",
     "text": [
      "The path length of the largest SCC is comparable to random networks. The network may not exhibit a strong small world phenomenon.\n"
     ]
    }
   ],
   "source": [
    "#CODE:\n",
    "# Finding the largest strongly connnected components\n",
    "largest_scc = max(nx.strongly_connected_components(email_network), key=len)\n",
    "email_scc = email_network.subgraph(largest_scc)\n",
    "\n",
    "def random_network_generator(n, p): \n",
    "    \"\"\"\n",
    "    Function to generate random networks \n",
    "    \"\"\"\n",
    "    return nx.erdos_renyi_graph(n, p, directed=True)\n",
    "\n",
    "def generate_average_path_length(Graph):\n",
    "    \"\"\"\n",
    "    Function to calculate the average shortest length\n",
    "    \"\"\"\n",
    "    # using a try catch block for the randomly generated networks just incase\n",
    "    # a network is generated without a path \n",
    "    try: \n",
    "        return nx.average_shortest_path_length(Graph)\n",
    "    except (nx.NetworkXError or nx.NetworkXNoPath): \n",
    "        return np.inf\n",
    "\n",
    "#calculating the average path length of the largest scc\n",
    "email_scc_path_length = generate_average_path_length(email_scc)\n",
    "\n",
    "# Generating 10 comparative random networks\n",
    "random_networks_path_lengths = []\n",
    "for _ in range(10):\n",
    "    random_network = random_network_generator(email_scc.number_of_nodes(), 0.1)\n",
    "    random_networks_path_lengths.append(generate_average_path_length(random_network))\n",
    "\n",
    "average_random_path_length = np.mean(random_networks_path_lengths)\n",
    "\n",
    "if email_scc_path_length < average_random_path_length: \n",
    "    \n",
    "    print(\"The small path length of the largest SCC compared to random networks suggest a small world phenomenon.\")\n",
    "else: \n",
    "    print(\"The path length of the largest SCC is comparable to random networks. The network may not exhibit a strong small world phenomenon.\")"
   ]
  },
  {
   "cell_type": "raw",
   "id": "1aac5f8e-2fa2-485c-b163-621f73a91a58",
   "metadata": {},
   "source": [
    "ANSWER: No, the connectivity of the largest SCC in the email network is not reflective of the small world phenomenon.\n"
   ]
  },
  {
   "cell_type": "markdown",
   "id": "a1ea162f-553b-402d-b437-99b95cc9821a",
   "metadata": {},
   "source": [
    "##### Q3. Are occurrences of induced, connected subgraphs of 3 individuals (triads) with only mutual connections more abundant in the largest, strongly connected component than those with a mixture of asymmetric and mutual connections? What does this suggest about how mutual connections are distributed in the component?"
   ]
  },
  {
   "cell_type": "code",
   "execution_count": 40,
   "id": "f93ce721-0797-4803-b06b-d3e0a0a04027",
   "metadata": {},
   "outputs": [
    {
     "name": "stdout",
     "output_type": "stream",
     "text": [
      "Mixed connections are more abundant in triads.\n"
     ]
    }
   ],
   "source": [
    "#CODE:\n",
    "def triad_occurences(Graph, triad_type): \n",
    "    \"\"\"\n",
    "    Function to count triads in the largest strongly connected networks\n",
    "    \n",
    "    \"\"\"\n",
    "    count = 0 \n",
    "    \n",
    "    for node in Graph.nodes(): \n",
    "        \n",
    "        neigbors = list(Graph.neighbors(node))\n",
    "        # getting the two neighbors for comparison\n",
    "        for i in range(len(neigbors) - 1): \n",
    "            for j in range(i+1, len(neigbors)): \n",
    "                neighbor1, neighbor2 = neigbors[i], neigbors[j]\n",
    "                \n",
    "                if triad_type == \"mutual\" and Graph.has_edge(neighbor1, neighbor2) and Graph.has_edge(neighbor2, neighbor1):\n",
    "                    count += 1\n",
    "                elif triad_type == \"mixed\" and (Graph.has_edge(neighbor1, neighbor2) or Graph.has_edge(neighbor2, neighbor1)):\n",
    "                    count += 1\n",
    "    \n",
    "    return count\n",
    "\n",
    "\n",
    "mutual_triad_occurrences = triad_occurences(email_scc, \"mutual\")\n",
    "mixed_triad_occurrences = triad_occurences(email_scc, \"mixed\")\n",
    "\n",
    "if mutual_triad_occurrences > mixed_triad_occurrences: \n",
    "    print(\"Mutual connections are more abundant in triads with the largest SCC\")\n",
    "elif mutual_triad_occurrences < mixed_triad_occurrences: \n",
    "    print(\"Mixed connections are more abundant in triads.\")\n",
    "else: \n",
    "    print(\"Mutual and mixed connections are equally abundant in triads.\")\n",
    "                    "
   ]
  },
  {
   "cell_type": "raw",
   "id": "660fe970-1267-4d50-b34e-392fa6d14b6a",
   "metadata": {},
   "source": [
    "ANSWER: \n",
    "No, occurrences of induced, connected subgraphs of 3 individuals (triads) with only mutual connections in the largest, strongly connected component are less compared to mixed connections. This suggests that communication patterns within the SCC are less recipricol and may involve information flow in various directions. "
   ]
  },
  {
   "cell_type": "markdown",
   "id": "00cddf41-8d3e-4177-8aba-c7a322a8ff58",
   "metadata": {},
   "source": [
    "---\n",
    "### Task 2 of 2\n",
    "\n",
    "Examine the JSON file \"emails_departments.json\" (departments file). Keys in the departments file represent individuals using the same ids as in the \"emails.edgelist\" file in Part 2, Task 1 and the values represent a department id that the individual can be attributed to. Using the contents of the departments file in combination with the network in Part 2, Task 1, answer the following questions:"
   ]
  },
  {
   "cell_type": "markdown",
   "id": "754c1e34-252d-4786-9b57-0dfe9e76ec5c",
   "metadata": {},
   "source": [
    "##### Q1. Using the connections that individuals have in the network, are they more likely to mix with others in their department or those with a similar number of outward connections?"
   ]
  },
  {
   "cell_type": "code",
   "execution_count": 41,
   "id": "52119076-b214-41ed-a0b0-11a3d6e0e2a7",
   "metadata": {},
   "outputs": [
    {
     "name": "stdout",
     "output_type": "stream",
     "text": [
      "Not likely to mix with others in the department\n"
     ]
    }
   ],
   "source": [
    "# reading the json file\n",
    "with open(\"emails_departments.json\", \"r\") as f: \n",
    "    \n",
    "    departments = json.load(f)\n",
    "    \n",
    "# Assigning department information to network noedes \n",
    "\n",
    "for node, dept_id in departments.items(): \n",
    "    email_network.nodes[node][\"department\"] = dept_id\n",
    "\n",
    "# Getting connection ratios within departments\n",
    "connections_in_departments = {}\n",
    "\n",
    "for node, neighbors in email_network.adj.items():\n",
    "    \n",
    "    department = email_network.nodes[node][\"department\"]\n",
    "    in_department_count = 0\n",
    "    for neighbor in neighbors: \n",
    "        if email_network.nodes[neighbor][\"department\"] == department: \n",
    "            in_department_count+=1\n",
    "    try: \n",
    "        connections_in_departments[node] = in_department_count / len(neighbors)\n",
    "    except: \n",
    "        # where neighbors are zero\n",
    "        connections_in_departments[node] = 0.0\n",
    "\n",
    "#Getting similar outward connections \n",
    "similar_outward_connections = {}\n",
    "\n",
    "for node, degree in email_network.degree(): \n",
    "    similar_outward_connections[node] = []\n",
    "    \n",
    "    for node_2 in email_network.nodes(): \n",
    "        if node_2 != node and email_network.degree(node_2) == degree: \n",
    "            similar_outward_connections[node].append(node_2)\n",
    "            \n",
    "connections_counter = 0\n",
    "for node, ratio in connections_in_departments.items(): \n",
    "    # Checking if connections within the department are more frequent than with similar outward connections\n",
    "    if ratio > 0.5 and len(similar_outward_connections[node])>0: \n",
    "        connections_counter+=1\n",
    "\n",
    "final_ratio = connections_counter/ len(connections_in_departments)\n",
    "\n",
    "if final_ratio > 0.5: \n",
    "    print(\"More likely to mix with others in the department\")\n",
    "else: \n",
    "    print(\"Not likely to mix with others in the department\")"
   ]
  },
  {
   "cell_type": "raw",
   "id": "97f2b5cb-9d52-4787-8e8b-ef9aa29d1c8e",
   "metadata": {},
   "source": [
    "ANSWER: Individuals are not likely to mix with others in the department compared to thos with similar number of outward connections. \n"
   ]
  },
  {
   "cell_type": "markdown",
   "id": "3a83c73f-b498-49c4-abfb-46b52e34427b",
   "metadata": {
    "tags": []
   },
   "source": [
    "##### Q2. Are all departments with 15 or more members more tightly connected amongst themselves in comparison to all individuals across the overall network irrespective of their department?  Where in this context, 'more tightly connected' is defined as having more mutual AND clustered connections. In addition to answering the overall question as yes or no, provide a list of departments this is true for (if any) and not true for (if any)."
   ]
  },
  {
   "cell_type": "code",
   "execution_count": 36,
   "id": "70af8529-4fce-4910-a4b0-449862f1b96a",
   "metadata": {},
   "outputs": [
    {
     "name": "stdout",
     "output_type": "stream",
     "text": [
      "No, not all departments with 15 or more members are tightly connected amongst themselves.\n",
      "Departments that are not tightly connected among themselves: ['1', '14', '7', '15', '6', '0', '23']\n",
      " More tightly connected among themselves: ['21', '9', '17', '11', '10', '36', '4', '22', '16', '13', '19']\n"
     ]
    }
   ],
   "source": [
    "# Grouping the departments\n",
    "\n",
    "department_groups = {}\n",
    "\n",
    "for member, dept_id in departments.items(): \n",
    "    if dept_id not in department_groups:\n",
    "        #using a set to prevent duplicates\n",
    "        department_groups[dept_id] = set()\n",
    "    department_groups[dept_id].add(member)\n",
    "    \n",
    "targeted_depts = [dept_id for dept_id in department_groups.keys() if len(department_groups[dept_id]) >15 ]    \n",
    "\n",
    "# analyzing the cohesion of each department based on mutual clustered connection\n",
    "dept_connectedness = {}\n",
    "\n",
    "for dept_id in targeted_depts:\n",
    "    dept_graph = email_network.subgraph(department_groups[dept_id])\n",
    "    mutual_edges = sum(1 for u, v in dept_graph.edges() if email_network.has_edge(v, u))\n",
    "    clustering_coefficient = nx.average_clustering(dept_graph)\n",
    "    total_edges = dept_graph.number_of_edges()\n",
    "    try: \n",
    "        mutual_connection_ratio = mutual_edges / total_edges \n",
    "    except: \n",
    "        mutual_connection_ratio = 0\n",
    "        \n",
    "    dept_connectedness[dept_id] = (mutual_connection_ratio, clustering_coefficient)\n",
    "\n",
    "\n",
    "total_mutual_edges = sum(1 for u, v in email_network.edges() if email_network.has_edge(v, u))\n",
    "total_clustering_coefficient = nx.average_clustering(email_network)\n",
    "total_edges = email_network.number_of_edges()\n",
    "total_mutual_connections_ratio = total_mutual_edges /total_edges if total_edges > 0 else 0\n",
    "\n",
    "more_tightly_connected_departments = []\n",
    "not_tightly_connected_departments = []\n",
    "\n",
    "for dept_id, (mutual_connection_ratio, clustering_coefficient) in dept_connectedness.items(): \n",
    "    if (mutual_connection_ratio > total_mutual_connections_ratio) and (clustering_coefficient > total_clustering_coefficient):\n",
    "        more_tightly_connected_departments.append(dept_id)\n",
    "    else: \n",
    "        not_tightly_connected_departments.append(dept_id)\n",
    "        \n",
    "if len(not_tightly_connected_departments) > 0: \n",
    "    \n",
    "    print(\"No, not all departments with 15 or more members are tightly connected amongst themselves.\")\n",
    "    print(f\"Departments that are not tightly connected among themselves: {not_tightly_connected_departments}\\n More tightly connected among themselves: {more_tightly_connected_departments}\")\n",
    "        "
   ]
  },
  {
   "cell_type": "raw",
   "id": "f8f3b14e-67a3-411b-b5c2-04a6cbfce9ce",
   "metadata": {},
   "source": [
    "ANSWER: No, not all departments with 15 or more members are tightly connected amongst themselves.\n",
    "Departments that are not tightly connected among themselves are departments:  ['1', '14', '7', '15', '6', '0', '23']\n",
    "Those that are more tightly connected among themselves are departments: ['21', '9', '17', '11', '10', '36', '4', '22', '16', '13', '19']\n"
   ]
  }
 ],
 "metadata": {
  "kernelspec": {
   "display_name": "Python 3 (ipykernel)",
   "language": "python",
   "name": "python3"
  },
  "language_info": {
   "codemirror_mode": {
    "name": "ipython",
    "version": 3
   },
   "file_extension": ".py",
   "mimetype": "text/x-python",
   "name": "python",
   "nbconvert_exporter": "python",
   "pygments_lexer": "ipython3",
   "version": "3.11.4"
  }
 },
 "nbformat": 4,
 "nbformat_minor": 5
}
