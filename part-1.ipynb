{
 "cells": [
  {
   "cell_type": "markdown",
   "id": "a1f89f09-3153-4e19-82b5-d168d382809b",
   "metadata": {},
   "source": [
    "# Part 1: Social Media Behaviour Data Analysis"
   ]
  },
  {
   "cell_type": "markdown",
   "id": "b7273255-ab87-4c85-951d-b03c7cad8023",
   "metadata": {
    "tags": []
   },
   "source": [
    "\n",
    "---"
   ]
  },
  {
   "cell_type": "markdown",
   "id": "e1ccb25c-1685-484a-bf08-c4bc9acd9cf3",
   "metadata": {
    "tags": []
   },
   "source": [
    "### Install Python packages (pip only)"
   ]
  },
  {
   "cell_type": "code",
   "execution_count": 1,
   "id": "f4e03f4e-9153-4f7d-ae6f-2f89909a1288",
   "metadata": {},
   "outputs": [
    {
     "name": "stdout",
     "output_type": "stream",
     "text": [
      "Defaulting to user installation because normal site-packages is not writeable\n",
      "Requirement already satisfied: networkx in c:\\programdata\\anaconda3\\lib\\site-packages (3.1)\n",
      "Requirement already satisfied: numpy in c:\\programdata\\anaconda3\\lib\\site-packages (1.24.3)\n",
      "Requirement already satisfied: scipy in c:\\programdata\\anaconda3\\lib\\site-packages (1.10.1)\n",
      "Requirement already satisfied: matplotlib in c:\\programdata\\anaconda3\\lib\\site-packages (3.7.1)\n",
      "Requirement already satisfied: contourpy>=1.0.1 in c:\\programdata\\anaconda3\\lib\\site-packages (from matplotlib) (1.0.5)\n",
      "Requirement already satisfied: cycler>=0.10 in c:\\programdata\\anaconda3\\lib\\site-packages (from matplotlib) (0.11.0)\n",
      "Requirement already satisfied: fonttools>=4.22.0 in c:\\programdata\\anaconda3\\lib\\site-packages (from matplotlib) (4.25.0)\n",
      "Requirement already satisfied: kiwisolver>=1.0.1 in c:\\programdata\\anaconda3\\lib\\site-packages (from matplotlib) (1.4.4)\n",
      "Requirement already satisfied: packaging>=20.0 in c:\\programdata\\anaconda3\\lib\\site-packages (from matplotlib) (23.0)\n",
      "Requirement already satisfied: pillow>=6.2.0 in c:\\programdata\\anaconda3\\lib\\site-packages (from matplotlib) (9.4.0)\n",
      "Requirement already satisfied: pyparsing>=2.3.1 in c:\\programdata\\anaconda3\\lib\\site-packages (from matplotlib) (3.0.9)\n",
      "Requirement already satisfied: python-dateutil>=2.7 in c:\\users\\mickey mouse\\appdata\\roaming\\python\\python311\\site-packages (from matplotlib) (2.8.2)\n",
      "Requirement already satisfied: six>=1.5 in c:\\programdata\\anaconda3\\lib\\site-packages (from python-dateutil>=2.7->matplotlib) (1.16.0)\n",
      "Note: you may need to restart the kernel to use updated packages.\n"
     ]
    }
   ],
   "source": [
    "#e.g., %pip install some-package\n",
    "%pip install networkx numpy scipy matplotlib"
   ]
  },
  {
   "cell_type": "markdown",
   "id": "2b8621e2-e003-46b7-be7b-20a3f167559a",
   "metadata": {
    "tags": []
   },
   "source": [
    "### Import Python packages"
   ]
  },
  {
   "cell_type": "code",
   "execution_count": 1,
   "id": "d7c00360-c9d4-4781-b9e5-0181f1652bb8",
   "metadata": {},
   "outputs": [],
   "source": [
    "#e.g., import some-package\n",
    "import networkx as nx\n",
    "import matplotlib.pyplot as plt\n",
    "import numpy as np\n",
    "from typing import List,Set\n",
    "from scipy.stats import pearsonr"
   ]
  },
  {
   "cell_type": "markdown",
   "id": "ffa95b1b-31b8-44ad-9e9c-e2299b8cd2cf",
   "metadata": {},
   "source": [
    "---"
   ]
  },
  {
   "cell_type": "markdown",
   "id": "aa9a6985-71fb-4810-8dad-cd171aedf8a9",
   "metadata": {
    "tags": []
   },
   "source": [
    "### Task 1 of 1\n",
    "\n",
    "Examine the Graph Modelling Language (gml) files \"socialmedia_reply_network.gml\" (reply network) and \"socialmedia_social_network.gml\" (social network) which represent Twitter data between a sample of users over several days at the time of the Higgs boson particle discovery. Both networks are directed and share the same ids for nodes (anonymised Twitter users).  However, the shared user ids are contained within the \"label\" attribute in the .gml files, not the node \"id\" attribute of each individual .gml file.\n",
    "\n",
    "In the reply network, an edge from a node, 𝑢, to some other node, 𝑣, indicates that 𝑢 replied to a Tweet made by 𝑣 during the time period. Replies are also Tweets. Edges are weighted with the weight representing the number of times this happened over the time period.\n",
    "\n",
    "In the social network, an edge from node 𝑢 to 𝑣 indicates that 𝑢 follows 𝑣 on the social media platform.\n",
    "\n",
    "Using these networks, answer the following questions:"
   ]
  },
  {
   "cell_type": "markdown",
   "id": "2e51a390-c558-451c-8f1e-3009d9fdd525",
   "metadata": {
    "tags": []
   },
   "source": [
    "##### Q1. What fraction of users do not reply to or follow any other user, but have had others reply to their Tweets?"
   ]
  },
  {
   "cell_type": "code",
   "execution_count": 2,
   "id": "23d86c8c-c4fe-4fff-a741-84694bfc1b7e",
   "metadata": {},
   "outputs": [
    {
     "name": "stdout",
     "output_type": "stream",
     "text": [
      "Fraction of users: 0.0091\n"
     ]
    }
   ],
   "source": [
    "#CODE:\n",
    "\n",
    "# using networkx to read the networks. \n",
    "social_net = nx.read_gml('socialmedia_social_network.gml', label='label')\n",
    "reply_net= nx.read_gml('socialmedia_reply_network.gml', label='label')\n",
    "\n",
    "\n",
    "def generate_relevant_set(user_dict: dict) -> Set[int]: \n",
    "    \n",
    "    return set([node for node,value in user_dict.items() if value > 0])\n",
    "\n",
    "# all users that have replies \n",
    "r_in_degree_users = dict(reply_net.in_degree(nbunch=reply_net.nodes))\n",
    "users_with_replies = generate_relevant_set(r_in_degree_users)\n",
    "\n",
    "# users that reply to others \n",
    "r_out_degree_users = dict(reply_net.out_degree(nbunch=reply_net.nodes))\n",
    "users_that_reply = generate_relevant_set(r_out_degree_users)\n",
    "\n",
    "# users that follow other users \n",
    "s_out_degree_users = dict(social_net.out_degree(nbunch=social_net.nodes))\n",
    "users_that_follow_others = generate_relevant_set(s_out_degree_users)\n",
    "\n",
    "#users that have replies but don't reply or follow other users \n",
    "users_that_dont_reply_follow = users_with_replies - users_that_reply - users_that_follow_others\n",
    "\n",
    "frac = len(users_that_dont_reply_follow)/reply_net.number_of_nodes()\n",
    "\n",
    "print(f\"Fraction of users: {frac:.4f}\")"
   ]
  },
  {
   "cell_type": "raw",
   "id": "b6b3e307-f386-4417-9e9a-40a3de16a996",
   "metadata": {},
   "source": [
    "ANSWER: 0.0091\n"
   ]
  },
  {
   "cell_type": "markdown",
   "id": "e8297318-7065-41ac-84ee-20c67984090f",
   "metadata": {},
   "source": [
    "##### Q2. How does the topological structure of the reply network differ from the social network in terms of overall sparsity of edges between users and the number of connected groups of users?"
   ]
  },
  {
   "cell_type": "code",
   "execution_count": 3,
   "id": "4515b14a-2a60-42e6-8c0e-4fd1d952203d",
   "metadata": {},
   "outputs": [
    {
     "name": "stdout",
     "output_type": "stream",
     "text": [
      "Reply Network Density or Sparsity: 0.000041\n",
      "Social Network Density or Sparsity: 0.000992\n",
      "Reply Network Average clustering: 0.0012\n",
      "Social Network Average clustering: 0.1684\n",
      "Social Network Weakly Connected Components:436\n",
      "Reply Network Weakly Connected Components:5920\n",
      "Social Network Strongly Connected Components:4648\n",
      "Reply Network Strongly Connected Components:16217\n"
     ]
    }
   ],
   "source": [
    "#CODE: \n",
    "\n",
    "# Calculating density for social and reply networks\n",
    "reply_net_density = nx.density(reply_net)\n",
    "social_net_density = nx.density(social_net)\n",
    "\n",
    "# getting average clustering for both networks\n",
    "avg_clustering_reply = nx.average_clustering(reply_net)\n",
    "avg_clustering_social = nx.average_clustering(social_net)\n",
    "\n",
    "# getting the number of weakly connected components in each network \n",
    "reply_weak_components = nx.number_weakly_connected_components(reply_net)\n",
    "social_weak_components = nx.number_weakly_connected_components(social_net)\n",
    "\n",
    "# getting the number of strong connected components in each network\n",
    "reply_strong_components = nx.number_strongly_connected_components(reply_net)\n",
    "social_strong_components = nx.number_strongly_connected_components(social_net)\n",
    "\n",
    "print(f\"Reply Network Density or Sparsity: {reply_net_density:.6f}\")\n",
    "print(f\"Social Network Density or Sparsity: {social_net_density:.6f}\")\n",
    "print(f\"Reply Network Average clustering: {avg_clustering_reply:.4f}\")\n",
    "print(f\"Social Network Average clustering: {avg_clustering_social:.4f}\")\n",
    "print(f\"Social Network Weakly Connected Components:{social_weak_components}\")\n",
    "print(f\"Reply Network Weakly Connected Components:{reply_weak_components}\")\n",
    "print(f\"Social Network Strongly Connected Components:{social_strong_components}\")\n",
    "print(f\"Reply Network Strongly Connected Components:{reply_strong_components}\")"
   ]
  },
  {
   "cell_type": "raw",
   "id": "052651f7-f191-4777-8bd0-8c8e29a93fb4",
   "metadata": {},
   "source": [
    "ANSWER: \n",
    "\n",
    "- Reply Network Sparsity: 0.000041\n",
    "- Social Network Sparsity: 0.000992\n",
    "\n",
    "- Reply Network Average clustering: 0.0012\n",
    "- Social Network Average clustering: 0.1684\n",
    "\n",
    "- Number of Weakly Connected Components in Reply Network: 5920\n",
    "- Number of Weakly Connected Components in Social Network: 436\n",
    "\n",
    "- Number of Strongly Connected Components in Reply Network: 16217\n",
    "- Number of Strongly Connected Components in Social Network: 4648\n",
    "\n",
    "Sparsity of edges between users can be measured easily by the density of the graph, which is the ratio of the number of edges in the graph to the number of possible edges between nodes in a directed graph.\n",
    "\n",
    "The code calculates the density and the number of connected components for both networks, that make it easy to compare their topological structures in terms of sparsity and connectedness.\n",
    "A lower density indicates a sparser network, and the number of connected components will show how the users are grouped in isolated subnetworks.\n",
    "\n",
    "A higher average clustering coefficient indicates that network has denser clusters. Therefore, in this case, the reply network has a higher sparsity compared to the social network and this is verified by checking its density. \n"
   ]
  },
  {
   "cell_type": "markdown",
   "id": "9b111ee8-5955-4fb0-a0c3-0901e89a1ae7",
   "metadata": {
    "tags": []
   },
   "source": [
    "##### Q3. Does the number of users a user follows in the social network correlate with the number of replies that they make?"
   ]
  },
  {
   "cell_type": "code",
   "execution_count": 7,
   "id": "e4139df4-2095-4241-8143-e9f14814d992",
   "metadata": {},
   "outputs": [
    {
     "name": "stdout",
     "output_type": "stream",
     "text": [
      "0.06\n"
     ]
    }
   ],
   "source": [
    "#CODE:\n",
    "\n",
    "\"\"\" correlation between no of follows and no of replies \"\"\"\n",
    "\n",
    "# creating dictionary mapping each user to their follow count in the social network\n",
    "follow_counts = dict(social_net.out_degree(nbunch=social_net.nodes))\n",
    "\n",
    "# # creating a dictionary mapping each user to their reply count in the reply network\n",
    "reply_counts = dict(reply_net.out_degree(nbunch=reply_net.nodes))    \n",
    "\n",
    "# get users present in both network first\n",
    "common_users = set(follow_counts.keys()) & set(reply_counts.keys())\n",
    "follows = [follow_counts[user] for user in common_users]\n",
    "replies = [reply_counts[user] for user in common_users]\n",
    "\n",
    "# calculate the Pearson correlation coefficent \n",
    "correlation, _ = pearsonr(follows, replies)\n",
    "print(f\"{correlation:.2f}\")\n",
    "\n"
   ]
  },
  {
   "cell_type": "raw",
   "id": "843ea997-1710-437a-bee9-d87c6b4a87e7",
   "metadata": {},
   "source": [
    "ANSWER: Correlation coefficient = 0.06\n",
    "\n",
    "The correlation coefficient between the number of users a user follows and the number of replies they make in social network is 0.06. This means that there's a very weak correlation between number of users a user follows adn the number of replies they make. \n"
   ]
  },
  {
   "cell_type": "markdown",
   "id": "0e2d2102-f4eb-4a4e-8289-c6b4f8a72e85",
   "metadata": {},
   "source": [
    "##### Q4. Is a user that replies to another user's Tweet multiple times more likely to follow that user in comparison to if they only replied once?"
   ]
  },
  {
   "cell_type": "code",
   "execution_count": 8,
   "id": "26dbd7ae-c713-4f54-9e07-d213a22cf46a",
   "metadata": {},
   "outputs": [
    {
     "name": "stdout",
     "output_type": "stream",
     "text": [
      "Multiple replies + follow percentage: 88.07%\n",
      "Single reply + follow percentage: 83.82%\n"
     ]
    }
   ],
   "source": [
    "#CODE:\n",
    "# function to check if a user who replies multiple times is more likely to follow the other user\n",
    "def is_more_likely_to_follow(reply_network, social_network):\n",
    "    multiple_reply_follow_count = 0\n",
    "    multiple_reply_count = 0\n",
    "    single_reply_follow_count = 0\n",
    "    single_reply_count = 0\n",
    "\n",
    "    # iterate over edges in the reply network\n",
    "    for u, v, data in reply_network.edges(data=True):\n",
    "        # check if the user follows the user being replied to\n",
    "        follows = social_network.has_edge(u, v)\n",
    "\n",
    "        # count replies based on the number of occurrences and follow status\n",
    "        if data['occurrences'] > 1:\n",
    "            multiple_reply_count += data['occurrences']\n",
    "            if follows:\n",
    "                multiple_reply_follow_count += data['occurrences']\n",
    "        elif data['occurrences'] == 1:\n",
    "            single_reply_count += 1\n",
    "            if follows:\n",
    "                single_reply_follow_count += 1\n",
    "\n",
    "    # calculate percentages\n",
    "    multiple_reply_follow_percentage = (multiple_reply_follow_count / multiple_reply_count * 100) if multiple_reply_count else 0\n",
    "    single_reply_follow_percentage = (single_reply_follow_count / single_reply_count * 100) if single_reply_count else 0\n",
    "\n",
    "    return multiple_reply_follow_percentage, single_reply_follow_percentage\n",
    "\n",
    "# check if a user who replies multiple times is more likely to follow the other user\n",
    "multiple_reply_follow_percentage, single_reply_follow_percentage = is_more_likely_to_follow(reply_net, social_net)\n",
    "\n",
    "print(f\"Multiple replies + follow percentage: {multiple_reply_follow_percentage:.2f}%\")\n",
    "print(f\"Single reply + follow percentage: {single_reply_follow_percentage:.2f}%\")"
   ]
  },
  {
   "cell_type": "raw",
   "id": "871ab384-9ac6-418e-b238-e8bc34354dfd",
   "metadata": {},
   "source": [
    "ANSWER: \n",
    "\n",
    "Percentage of cases where a user follows after multiple replies: 88%\n",
    "Percentage of cases where a user follows after a single reply: 83%\n",
    "\n",
    "Yes, a user that replies to another user's tweet multiple times is more likely to follow that user compared to the one that replies once. From the social and reply networks above 88% of the users that replied to another user's tweet multiple times followed that user compared to 83% of the users that replied once. \n"
   ]
  },
  {
   "cell_type": "markdown",
   "id": "758e8192-3634-4b37-842c-5930b09861fe",
   "metadata": {},
   "source": [
    "##### Q5. How many users have only mutual following connections (i.e., every user they follow also follows them) and only mutual reply connections with these same users?"
   ]
  },
  {
   "cell_type": "code",
   "execution_count": 9,
   "id": "fb84ca57-63bf-4519-be36-a514bfc2a6fe",
   "metadata": {},
   "outputs": [
    {
     "name": "stdout",
     "output_type": "stream",
     "text": [
      "261\n"
     ]
    }
   ],
   "source": [
    "#CODE:\n",
    "users_with_mutual_connections = set()\n",
    "\n",
    "# iterate over nodes to find users with only mutual connections\n",
    "for user in social_net.nodes():\n",
    "    # users that 'user' follows\n",
    "    following = set(social_net.successors(user))  \n",
    "    # users that follow 'user'\n",
    "    followers = set(social_net.predecessors(user))  \n",
    "    # check for mutual following\n",
    "    if following == followers:  \n",
    "        # users that 'user' replied to\n",
    "        replied_users = set(reply_net.successors(user))\n",
    "        # users that replied to 'user'\n",
    "        replied_back_users = set(reply_net.predecessors(user)) \n",
    "        # check for mutual replies\n",
    "        if replied_users == replied_back_users: \n",
    "            # Add user if mutual\n",
    "            users_with_mutual_connections.add(user) \n",
    "\n",
    "# count users with only mutual connections\n",
    "num_users_with_mutual_connections = len(users_with_mutual_connections)\n",
    "\n",
    "print(f\"{num_users_with_mutual_connections}\")\n"
   ]
  },
  {
   "cell_type": "raw",
   "id": "04603234-769e-46b7-8025-01cf979418c6",
   "metadata": {},
   "source": [
    "ANSWER: 261\n"
   ]
  }
 ],
 "metadata": {
  "kernelspec": {
   "display_name": "Python 3 (ipykernel)",
   "language": "python",
   "name": "python3"
  },
  "language_info": {
   "codemirror_mode": {
    "name": "ipython",
    "version": 3
   },
   "file_extension": ".py",
   "mimetype": "text/x-python",
   "name": "python",
   "nbconvert_exporter": "python",
   "pygments_lexer": "ipython3",
   "version": "3.11.4"
  }
 },
 "nbformat": 4,
 "nbformat_minor": 5
}
