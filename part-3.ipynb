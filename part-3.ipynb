{
 "cells": [
  {
   "cell_type": "markdown",
   "id": "bee8d307-1818-4d3e-86c7-8d3873393b5b",
   "metadata": {},
   "source": [
    "# Part 3: Peer-to-peer Message Behaviour Data Analysis"
   ]
  },
  {
   "cell_type": "markdown",
   "id": "f1a89661-48f9-433d-9ac3-00f94b220e76",
   "metadata": {
    "tags": []
   },
   "source": [
    "---"
   ]
  },
  {
   "cell_type": "markdown",
   "id": "775c58e9-c1bb-471e-8d7e-5ebcf36c750d",
   "metadata": {
    "tags": []
   },
   "source": [
    "### Install Python packages (pip only)"
   ]
  },
  {
   "cell_type": "code",
   "execution_count": 1,
   "id": "9c433636-63e8-45ac-91ab-df4598e50d3a",
   "metadata": {},
   "outputs": [
    {
     "name": "stdout",
     "output_type": "stream",
     "text": [
      "Defaulting to user installation because normal site-packages is not writeable\n",
      "Requirement already satisfied: networkx in c:\\programdata\\anaconda3\\lib\\site-packages (3.1)\n",
      "Requirement already satisfied: numpy in c:\\programdata\\anaconda3\\lib\\site-packages (1.24.3)\n",
      "Requirement already satisfied: scipy in c:\\programdata\\anaconda3\\lib\\site-packages (1.10.1)\n",
      "Requirement already satisfied: pandas in c:\\users\\mickey mouse\\appdata\\roaming\\python\\python311\\site-packages (2.1.4)\n",
      "Requirement already satisfied: python-dateutil>=2.8.2 in c:\\users\\mickey mouse\\appdata\\roaming\\python\\python311\\site-packages (from pandas) (2.8.2)\n",
      "Requirement already satisfied: pytz>=2020.1 in c:\\programdata\\anaconda3\\lib\\site-packages (from pandas) (2022.7)\n",
      "Requirement already satisfied: tzdata>=2022.1 in c:\\users\\mickey mouse\\appdata\\roaming\\python\\python311\\site-packages (from pandas) (2023.3)\n",
      "Requirement already satisfied: six>=1.5 in c:\\programdata\\anaconda3\\lib\\site-packages (from python-dateutil>=2.8.2->pandas) (1.16.0)\n",
      "Note: you may need to restart the kernel to use updated packages.\n"
     ]
    }
   ],
   "source": [
    "#e.g., %pip install some-package\n",
    "%pip install networkx numpy scipy pandas"
   ]
  },
  {
   "cell_type": "markdown",
   "id": "27a98e79-7408-4b7e-9937-f0611b21dc21",
   "metadata": {},
   "source": [
    "### Import Python packages"
   ]
  },
  {
   "cell_type": "code",
   "execution_count": 1,
   "id": "02b645ed-b469-45e6-ba5b-1c70e7efd7f1",
   "metadata": {},
   "outputs": [],
   "source": [
    "#e.g., import some-package\n",
    "import pandas as pd\n",
    "import networkx as nx\n",
    "import numpy as np"
   ]
  },
  {
   "cell_type": "markdown",
   "id": "33e292c7-df21-4fe9-b720-c21acdd2ceb3",
   "metadata": {},
   "source": [
    "---"
   ]
  },
  {
   "cell_type": "markdown",
   "id": "3db29460-d751-47b9-a597-7f466a9e7f8f",
   "metadata": {
    "tags": []
   },
   "source": [
    "### Task 1 of 2\n",
    "\n",
    "Examine the file \"p2p_msg.csv\" which represents messaging behaviour between users on a messaging platform. Each row has four columns, representing a single event where a person (person_a) messaged another person (person_b) on some date (date) at some time of day (time). From this, answer the following questions:"
   ]
  },
  {
   "cell_type": "markdown",
   "id": "4f77652a-85fa-4fe6-b7e6-d95827082ca2",
   "metadata": {
    "tags": []
   },
   "source": [
    "##### Q1. Build a suitable network to represent social connections based on the messaging behaviour that took place in the first 28 days. In doing so, assume that one or more messages from one person to another represents a mutual underlying social connection (i.e., regardless of whether person_a messaged person_b, person_b messaged person_a, or both at some point). "
   ]
  },
  {
   "cell_type": "code",
   "execution_count": 2,
   "id": "3a1fae4d-a6b8-4c71-aaba-1dfaff94252c",
   "metadata": {},
   "outputs": [
    {
     "name": "stdout",
     "output_type": "stream",
     "text": [
      "Social network built\n",
      "Number of nodes: 1147\n",
      "Number of edges: 6516\n",
      "Most connected person: 400\n"
     ]
    }
   ],
   "source": [
    "#CODE:\n",
    "# using pandas to read the csv and modify it \n",
    "df = pd.read_csv(\"p2p_msg.csv\")\n",
    "\n",
    "# converting objects date and time to datetime\n",
    "df['Datetime'] = pd.to_datetime(df.date +' '+df.time, dayfirst=True)\n",
    "\n",
    "# getting the first date on the dataframe \n",
    "first_date = df['Datetime'].min()\n",
    "\n",
    "# making the last date to be 28 days after the first date\n",
    "last_date = first_date + pd.Timedelta(days = 28)\n",
    "\n",
    "relevant_df = df[df['Datetime'] <= last_date]\n",
    "\n",
    "social_graph = nx.Graph()\n",
    "# adding the people as nodes\n",
    "nodes = list(set(relevant_df[\"person_a\"].tolist() + relevant_df['person_b'].tolist()))\n",
    "social_graph.add_nodes_from(nodes)\n",
    "\n",
    "# adding edges based on person_a and person_b connections\n",
    "\n",
    "for index, data  in relevant_df.iterrows(): \n",
    "    person_a = data['person_a']\n",
    "    person_b = data['person_b']\n",
    "    social_graph.add_edge(person_a, person_b)\n",
    "\n",
    "print(\"Social network built\")\n",
    "print(f\"Number of nodes: {social_graph.number_of_nodes()}\")\n",
    "print(f\"Number of edges: {social_graph.number_of_edges()}\")\n",
    "\n",
    "degree_centrality = nx.degree_centrality(social_graph)\n",
    "\n",
    "most_connected_person = max(degree_centrality, key=degree_centrality.get)\n",
    "\n",
    "print(f\"Most connected person: {most_connected_person}\")"
   ]
  },
  {
   "cell_type": "raw",
   "id": "f5d080d0-8837-4605-8926-50eb6bd7d020",
   "metadata": {},
   "source": [
    "ANSWER: Social network representing social connections based on messaging behaviour built. \n",
    "Number of nodes: 1147\n",
    "Number of edges: 6516\n",
    "Most connected person: 400"
   ]
  },
  {
   "cell_type": "markdown",
   "id": "27a76d52-6471-4695-826c-788e3078fab9",
   "metadata": {},
   "source": [
    "##### Q2. Using the largest connected component of the network constructed in Task 1, Q1. What is the mean, median and the standard deviation of the differences between the maximum degree of separation of each individual and the average distance between the individual and all others?"
   ]
  },
  {
   "cell_type": "code",
   "execution_count": 3,
   "id": "d1808c52-538f-4461-b8be-5adc186a3592",
   "metadata": {},
   "outputs": [
    {
     "name": "stdout",
     "output_type": "stream",
     "text": [
      "Mean difference: -578.753711790393\n",
      "Median difference: -578\n",
      "Standard deviation: 334.5213413670821\n"
     ]
    }
   ],
   "source": [
    "#CODE:\n",
    "# getting the largest connected component\n",
    "largest_connected_component = max(nx.connected_components(social_graph), key=len)\n",
    "\n",
    "# calculating shortest paths from each node\n",
    "all_paths = dict(nx.all_pairs_shortest_path(social_graph.subgraph(largest_connected_component)))\n",
    "\n",
    "max_degree_of_separation = nx.diameter(social_graph.subgraph(largest_connected_component))\n",
    "differences = [max_degree_of_separation - all_paths[node][other][-1] for node in largest_connected_component for other in largest_connected_component if node != other]\n",
    "\n",
    "# Calculate mean, median and standard deviation\n",
    "mean_difference = sum(differences) / len(differences)\n",
    "median_difference = sorted(differences)[len(differences) // 2]\n",
    "std_difference = pd.Series(differences).std()\n",
    "\n",
    "# Print the results\n",
    "print(\"Mean difference:\", mean_difference)\n",
    "print(\"Median difference:\", median_difference)\n",
    "print(\"Standard deviation:\", std_difference)"
   ]
  },
  {
   "cell_type": "raw",
   "id": "ed938505-3426-4965-8e5b-7a63119f710b",
   "metadata": {},
   "source": [
    "ANSWER: \n",
    "Mean difference: -578.753711790393\n",
    "Median difference: -578\n",
    "Standard deviation: 334.5213413670821"
   ]
  },
  {
   "cell_type": "markdown",
   "id": "18a0743d-26e7-48b8-9f54-569ce6818ea9",
   "metadata": {},
   "source": [
    "##### Q3. Build another suitable network to represent social connections based on ALL message behaviour in the dataset. In doing so, assume that one or messages from one person to another represents a MUTUAL underlying social connection (i.e., regardless of whether person_a messaged person_b, person_b messaged person_a, or both at some point).Can the social phenomenon, ‘Triadic Closure’, be supported for the common nodes that exist in both the network created from behaviour for the first 28 days (i.e., from Task 1, Q1) and the network built from all message behaviour?"
   ]
  },
  {
   "cell_type": "code",
   "execution_count": 4,
   "id": "5df320c0-3d4f-4217-a8eb-49263693d457",
   "metadata": {},
   "outputs": [
    {
     "name": "stdout",
     "output_type": "stream",
     "text": [
      "Average Clustering Coefficient for the common nodes (first 28 days): 0.11\n",
      " Mutual social connections: 13968\n"
     ]
    }
   ],
   "source": [
    "#CODE:\n",
    "\n",
    "# using df from the task 1\n",
    "full_graph = nx.Graph()\n",
    "# adding the people as nodes\n",
    "nodes = list(set(df[\"person_a\"].tolist() + df['person_b'].tolist()))\n",
    "full_graph.add_nodes_from(nodes)\n",
    "\n",
    "# adding edges based on person_a and person_b connections\n",
    "\n",
    "for index, data  in df.iterrows(): \n",
    "    person_a = data['person_a']\n",
    "    person_b = data['person_b']\n",
    "    full_graph.add_edge(person_a, person_b)\n",
    "\n",
    "    \n",
    "common_nodes = set(social_graph.nodes())&set(full_graph.nodes())\n",
    "\n",
    "subgraph_social_graph = social_graph.subgraph(common_nodes)\n",
    "\n",
    "\n",
    "\n",
    "# using function from part 2\n",
    "def triad_occurences(Graph, triad_type): \n",
    "    \"\"\"\n",
    "    Function to count triads in the largest strongly connected networks\n",
    "    \n",
    "    \"\"\"\n",
    "    count = 0 \n",
    "    \n",
    "    for node in Graph.nodes(): \n",
    "        \n",
    "        neigbors = list(Graph.neighbors(node))\n",
    "        # getting the two neighbors for comparison\n",
    "        for i in range(len(neigbors) - 1): \n",
    "            for j in range(i+1, len(neigbors)): \n",
    "                neighbor1, neighbor2 = neigbors[i], neigbors[j]\n",
    "                \n",
    "                if triad_type == \"mutual\" and Graph.has_edge(neighbor1, neighbor2) and Graph.has_edge(neighbor2, neighbor1):\n",
    "                    count += 1\n",
    "                elif triad_type == \"mixed\" and (Graph.has_edge(neighbor1, neighbor2) or Graph.has_edge(neighbor2, neighbor1)):\n",
    "                    count += 1\n",
    "    \n",
    "    return count\n",
    "\n",
    "\n",
    "triad_28 = triad_occurences(subgraph_social_graph, \"mutual\")\n",
    "\n",
    "clustering_coefficients = nx.clustering(subgraph_social_graph)\n",
    "# getting average clustering coefficient in 28 days subgraph\n",
    "average_clustering_coefficient = sum(clustering_coefficients.values()) / len(clustering_coefficients)\n",
    "\n",
    "print(f\"Average Clustering Coefficient for the common nodes (first 28 days): {average_clustering_coefficient:.2f}\")\n",
    "print(f\" Mutual social connections: {triad_28}\")"
   ]
  },
  {
   "cell_type": "raw",
   "id": "1bbb165a-b6b5-4e2f-9d2e-976867a4902b",
   "metadata": {},
   "source": [
    "ANSWER: The clustering coefficient is greater than 0. This supports presence of triadic closure. \n"
   ]
  },
  {
   "cell_type": "markdown",
   "id": "b2c69305-9297-4f3f-8248-537c45bb605e",
   "metadata": {},
   "source": [
    "##### Q4. What hypothetical, non-existent edges would need to be added to the network representing all message behaviour (i.e., from Task 1, Q3) such that a message could pass along a path from any node to any other? In doing so, aim to minimise the number of edges that would be needed as well as the longest shortest path in the network as a result."
   ]
  },
  {
   "cell_type": "code",
   "execution_count": 5,
   "id": "93070886-bcfc-4b6e-846f-a25720c850ca",
   "metadata": {},
   "outputs": [
    {
     "name": "stdout",
     "output_type": "stream",
     "text": [
      "The following edges need to be added to minimize the number of edges and the longest shortest path:\n",
      "[(10, 1), (229, 10), (1192, 229), (1797, 1192), (1812, 1797)]\n",
      "(10, 1)\n",
      "(229, 10)\n",
      "(1192, 229)\n",
      "(1797, 1192)\n",
      "(1812, 1797)\n",
      "The longest shortest path in the network (network diameter) is now: 11\n"
     ]
    }
   ],
   "source": [
    "#CODE:\n",
    "# using full_graph from Q3\n",
    "# Find connected components in the network\n",
    "connected_components = list(nx.connected_components(full_graph))\n",
    "\n",
    "# Sort the connected components by size in descending order\n",
    "sorted_components = sorted(connected_components, key=len, reverse=True)\n",
    "\n",
    "# List to store the edges that should be added to minimize the number of edges and the longest shortest path\n",
    "edges_to_add = []\n",
    "\n",
    "# connect the components by adding an edge from the last node in the largest component\n",
    "# to the first node in the next largest component\n",
    "\n",
    "for i in range(len(sorted_components) - 1):\n",
    "    # Get a node from the largest component (last node for variety)\n",
    "    node_from_largest_component = next(iter(sorted_components[i + 1]))\n",
    "    \n",
    "    # Get a node from the next component (first node for variety)\n",
    "    node_from_next_component = next(iter(sorted_components[i]))\n",
    "    \n",
    "    # adding this edge to the list\n",
    "    edges_to_add.append((node_from_largest_component, node_from_next_component))\n",
    "\n",
    "# Now we have a list of edges that, if added, would connect all components\n",
    "# Let's print them out\n",
    "print(f\"The following edges need to be added to minimize the number of edges and the longest shortest path:\")\n",
    "\n",
    "print(edges_to_add)\n",
    "for edge in edges_to_add:\n",
    "    print(edge)\n",
    "# Optionally, you can add these edges to the network and calculate the new longest shortest path\n",
    "for edge in edges_to_add:\n",
    "    full_graph.add_edge(*edge)\n",
    "\n",
    "# Calculate the diameter of the network which is the longest shortest path\n",
    "network_diameter = nx.diameter(full_graph)\n",
    "print(f\"The longest shortest path in the network (network diameter) is now: {network_diameter}\")"
   ]
  },
  {
   "cell_type": "raw",
   "id": "d58ae102-2739-4063-a39a-d2c58c3204c6",
   "metadata": {},
   "source": [
    "ANSWER: The following edges need to be added to minimize the number of edges and the longest shortest path:\n",
    "[(10, 1), (229, 10), (1192, 229), (1797, 1192), (1812, 1797)]\n",
    "(10, 1)\n",
    "(229, 10)\n",
    "(1192, 229)\n",
    "(1797, 1192)\n",
    "(1812, 1797)\n",
    "The longest shortest path in the network (network diameter) is now: 11\n"
   ]
  },
  {
   "cell_type": "markdown",
   "id": "eaa92191-51cc-4f9d-966c-b8cd5de3d80d",
   "metadata": {
    "tags": []
   },
   "source": [
    "### Task 2 of 2 \n",
    "\n",
    "Using the largest connected component of the network constructed from all data in Task 1, Q2, assume the role of an outsider with complete visibility of the network that now wishes to spread a hypothetical message such that everyone in the component would know the information it contained as quickly as possible. Assume that messages will now spread in sequential timesteps using the following mechanism. If an individual is told the message at timestep 𝑡, the individual will forward the message to all of their direct connections at timestep 𝑡+1. Individuals can therefore be told the message more than once. From this, answer the following questions:"
   ]
  },
  {
   "cell_type": "markdown",
   "id": "23e447d7-e1a4-40d7-a4af-a7e4f6c2a214",
   "metadata": {},
   "source": [
    "##### Q1. If you could only select 1 individual to tell at timestep 0, what set of nodes could you select from which would result in the message being received by everyone in the fewest timesteps as possible and what would the number of timesteps be?"
   ]
  },
  {
   "cell_type": "code",
   "execution_count": 6,
   "id": "75ea9640-98fd-4cf6-948c-ea57db8d82ac",
   "metadata": {},
   "outputs": [
    {
     "name": "stdout",
     "output_type": "stream",
     "text": [
      "Nodes that I would select that would result to message being received by everyone in the fewest timesteps(6)\n",
      "[1, 10]\n"
     ]
    }
   ],
   "source": [
    "#CODE:\n",
    "# using the largest connectecd component generated above\n",
    "largest_connected_component = max(nx.connected_components(full_graph), key=len)\n",
    "G = full_graph.subgraph(largest_connected_component)\n",
    "\n",
    "\n",
    "#getting the eccentricity\n",
    "eccentricities = nx.eccentricity(G)\n",
    "# finding nodew with smallest eccentricity\n",
    "minimum_eccen = min(eccentricities.values())\n",
    "centers = [node for node, ecc in eccentricities.items() if ecc == minimum_eccen]\n",
    "\n",
    "\n",
    "\n",
    "print(f\"Nodes that I would select that would result to message being received by everyone in the fewest timesteps({minimum_eccen})\")\n",
    "print(centers)"
   ]
  },
  {
   "cell_type": "raw",
   "id": "f20f5387-43e7-4846-923e-bc0c3a9055dd",
   "metadata": {},
   "source": [
    "ANSWER: \n",
    "Nodes that I would select that would result to message being received by everyone in the fewest timesteps\n",
    "[1, 10]\n"
   ]
  },
  {
   "cell_type": "markdown",
   "id": "7161ea1f-f955-49fd-b612-64dfa50adf6e",
   "metadata": {},
   "source": [
    "##### Q2. If you had to select any 5 individuals to tell at timestep 0, can the message be received by everyone in fewer timesteps than the single individual selection in Q1? In determining your answer, use one or more appropriate network connectivity measures, rather than an exhaustive search through every combination of nodes in the network."
   ]
  },
  {
   "cell_type": "code",
   "execution_count": 7,
   "id": "598d85c4-4cf4-4444-b091-166f70ca6ac3",
   "metadata": {},
   "outputs": [
    {
     "name": "stdout",
     "output_type": "stream",
     "text": [
      "Choosen nodes: [32, 105, 400, 103, 9]\n"
     ]
    }
   ],
   "source": [
    "#CODE:\n",
    "# getting the betweeness centrality \n",
    "b_centrality = nx.betweenness_centrality(G) \n",
    "\n",
    "d_centrality = nx.degree_centrality(G)\n",
    "\n",
    "# Sorting nodes by centrality (descending order)\n",
    "sorted_by_degree = sorted(d_centrality.items(), key=lambda item: item[1], reverse=True)\n",
    "sorted_by_betweenness = sorted(b_centrality.items(), key=lambda item: item[1], reverse=True)\n",
    "\n",
    "# Select top nodes with high degree centrality (2-3 nodes)\n",
    "high_degree_nodes = [node for node, _ in sorted_by_degree[:5]]\n",
    "\n",
    "# Select top nodes with high betweenness centrality (1-2 nodes)\n",
    "high_betweenness_nodes = [node for node, _ in sorted_by_betweenness[:2]]\n",
    "\n",
    "# Combine and choose a diverse set of 5 nodes (adjust selection logic as needed)\n",
    "potential_seed_nodes = list(set(high_degree_nodes) | set(high_betweenness_nodes))\n",
    "chosen_seed_nodes = potential_seed_nodes[:5]  # Select top 5 from the combined list\n",
    "\n",
    "print(f\"Choosen nodes: {chosen_seed_nodes}\")\n"
   ]
  },
  {
   "cell_type": "raw",
   "id": "4945b93d-5b7b-451b-8496-f90e3405d544",
   "metadata": {},
   "source": [
    "ANSWER: \n",
    "Nodes : [32, 105, 400, 103, 9]"
   ]
  }
 ],
 "metadata": {
  "kernelspec": {
   "display_name": "Python 3 (ipykernel)",
   "language": "python",
   "name": "python3"
  },
  "language_info": {
   "codemirror_mode": {
    "name": "ipython",
    "version": 3
   },
   "file_extension": ".py",
   "mimetype": "text/x-python",
   "name": "python",
   "nbconvert_exporter": "python",
   "pygments_lexer": "ipython3",
   "version": "3.11.4"
  }
 },
 "nbformat": 4,
 "nbformat_minor": 5
}
